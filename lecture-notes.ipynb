{
 "cells": [
  {
   "cell_type": "markdown",
   "metadata": {},
   "source": [
    "# Question 1\n",
    "Given an image represented by `NxN` matrix, where each pixel is an integer from 0-9, write a function `rotateImage` that rotates the image by 90 degrees in the counter-clockwise direction.\n",
    "### Asking Questions\n",
    "- How is the matrix represented\n",
    "- How do I move matrix elements around\n",
    "- How do I rotate a metrix in *any* direction?"
   ]
  },
  {
   "cell_type": "markdown",
   "metadata": {},
   "source": [
    "# Question 2\n",
    "Write a function to return the `nth` term in the Fibonacci sequence.\n",
    "\n",
    "$F_n = F_{n-1} + F_{n-2}$\n",
    "\n",
    "\n",
    "The Python solution:\n",
    "```python\n",
    "def nth_fib(n):\n",
    "    if n < 2:\n",
    "        return n\n",
    "    return nth_fib(n-1) + nth_fib(n-2)\n",
    "```"
   ]
  },
  {
   "cell_type": "markdown",
   "metadata": {},
   "source": [
    "# Question 3\n",
    "Write a `getFactorial()` function.\n",
    "\n",
    "```python\n",
    "Base cases:\n",
    "0! = 1\n",
    "1! = 1\n",
    "\n",
    "Recusrive case:\n",
    "n! = n + (n-1)!\n",
    "```"
   ]
  },
  {
   "cell_type": "code",
   "execution_count": 5,
   "metadata": {},
   "outputs": [],
   "source": [
    "def getFactorial(n):\n",
    "    if n < 2:\n",
    "        return 1\n",
    "    factored = n * getFactorial(n-1)\n",
    "    return factored"
   ]
  },
  {
   "cell_type": "code",
   "execution_count": 6,
   "metadata": {},
   "outputs": [
    {
     "data": {
      "text/plain": [
       "120"
      ]
     },
     "execution_count": 6,
     "metadata": {},
     "output_type": "execute_result"
    }
   ],
   "source": [
    "getFactorial(5)"
   ]
  },
  {
   "cell_type": "markdown",
   "metadata": {},
   "source": [
    "# Question 4\n",
    "Implement quicksort algorithm"
   ]
  },
  {
   "cell_type": "code",
   "execution_count": 30,
   "metadata": {},
   "outputs": [],
   "source": [
    "\n",
    "def quicksort(data):\n",
    "    # base case: if array length 0 or 1\n",
    "    if len(data) < 2:\n",
    "        # return array\n",
    "        return data\n",
    "    \n",
    "    else:\n",
    "        # pick pivot (first element will do)\n",
    "        pivot = data[0]\n",
    "        left = []\n",
    "        right = []\n",
    "        # put anything smaller into left array\n",
    "        # put anything bigger into right array\n",
    "        for value in data[1:]:\n",
    "            if value <= pivot:\n",
    "                left.append(value)\n",
    "            if value > pivot:\n",
    "                right.append(value)\n",
    "        \n",
    "        # return quicksort(left) + pivot + quicksort(right)\n",
    "        return quicksort(left) + [pivot] + quicksort(right)\n"
   ]
  },
  {
   "cell_type": "code",
   "execution_count": 8,
   "metadata": {},
   "outputs": [
    {
     "data": {
      "text/plain": [
       "[1, 2, 3, 4, 5]"
      ]
     },
     "execution_count": 8,
     "metadata": {},
     "output_type": "execute_result"
    }
   ],
   "source": [
    "quicksort([5,4,3,2,1])"
   ]
  },
  {
   "cell_type": "markdown",
   "metadata": {},
   "source": [
    "# Question 5 (last night's assignment)\n",
    "Implement merge sort.\n",
    "```python\n",
    "        [5 9 3 7 2 8 1 6]\n",
    "      [5 9 3 7]   [2 8 1 6]\n",
    "    [5 9]  [3 7]  [2 8] [1 6]\n",
    "  [5] [9] [3] [7] [2] [8] [1] [6] # Viola! Each (sub)array is individually sorted\n",
    "   ↑   ↑\n",
    "# Now let's compare each subarray pairwise, keeping track with two cursors\n",
    "\n",
    "        # Here one of our cursors hit the end of its subarray,\n",
    "        # so we can append the remainder of the other array since we know its sorted\n",
    "          ↓\n",
    "i         i      i\n",
    "[5]    [ ]    [ ]\n",
    "[ ] -->[5] -->[5 9]  \n",
    "[9]    [9]    [ ]\n",
    "j      j      j\n",
    "\n",
    "# Repeat for every other one recursively\n",
    "```"
   ]
  },
  {
   "cell_type": "code",
   "execution_count": 31,
   "metadata": {},
   "outputs": [],
   "source": [
    "# Implementation\n",
    "def merge(arrA, arrB):\n",
    "    elements = len(arrA) + len(arrB)\n",
    "    merged_arr = [0] * elements\n",
    "    # put back together here\n",
    "    # SORTING happens here\n",
    "    \n",
    "    # our cursors\n",
    "    a = 0\n",
    "    b = 0\n",
    "\n",
    "    for k in range(0, elements):\n",
    "        # compare a and b\n",
    "        # if a is out of range, push b and iterate\n",
    "        # if b is out of range, push a and iterate\n",
    "        if a >= len(arrA): # we're done with arrA, push remaining arrB\n",
    "            merged_arr[k] = arrB[b]\n",
    "            b += 1\n",
    "        elif b >= len(arrB): # we're done with arrB, push remaining arrA\n",
    "            merged_arr[k] = arrA[a]\n",
    "            a += 1\n",
    "        # if a is smaller, put in array and iterate\n",
    "        # if b is smaller, put in array and iterate\n",
    "        elif arrA[a] < arrB[b]:\n",
    "            merged_arr[k] = arrA[a]\n",
    "            a += 1\n",
    "        else:\n",
    "            merged_arr[k] = arrB[b]\n",
    "            b += 1\n",
    "    return merged_arr\n",
    "\n",
    "def merge_sort(arr):\n",
    "    # split here\n",
    "    # find the middle of arr\n",
    "    mid = len(arr)//2\n",
    "    # base case:\n",
    "    # if array size > 1:\n",
    "    if len(arr) > 1:\n",
    "        # sort stuff in left and put it to the left\n",
    "        left = merge_sort(arr[:mid])\n",
    "        \n",
    "        # sort stuff in right and put it to the right\n",
    "        right = merge_sort(arr[mid:])\n",
    "        \n",
    "        # merge left and right\n",
    "        arr = merge(left, right)\n",
    "    return arr"
   ]
  },
  {
   "cell_type": "code",
   "execution_count": 29,
   "metadata": {},
   "outputs": [
    {
     "data": {
      "text/plain": [
       "[1, 2, 3, 5, 6, 7, 8, 9]"
      ]
     },
     "execution_count": 29,
     "metadata": {},
     "output_type": "execute_result"
    }
   ],
   "source": [
    "merge_sort([5,9,3,7,2,8,1,6])"
   ]
  },
  {
   "cell_type": "code",
   "execution_count": null,
   "metadata": {},
   "outputs": [],
   "source": []
  }
 ],
 "metadata": {
  "kernelspec": {
   "display_name": "Python 3",
   "language": "python",
   "name": "python3"
  },
  "language_info": {
   "codemirror_mode": {
    "name": "ipython",
    "version": 3
   },
   "file_extension": ".py",
   "mimetype": "text/x-python",
   "name": "python",
   "nbconvert_exporter": "python",
   "pygments_lexer": "ipython3",
   "version": "3.7.4"
  }
 },
 "nbformat": 4,
 "nbformat_minor": 4
}
