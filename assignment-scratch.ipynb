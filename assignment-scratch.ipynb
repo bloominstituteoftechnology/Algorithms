{
 "cells": [
  {
   "cell_type": "markdown",
   "metadata": {},
   "source": [
    "# Stock Prices"
   ]
  },
  {
   "cell_type": "code",
   "execution_count": 1,
   "metadata": {},
   "outputs": [],
   "source": [
    "prices = [2,3,1,4,5,0]    "
   ]
  },
  {
   "cell_type": "code",
   "execution_count": 3,
   "metadata": {},
   "outputs": [
    {
     "data": {
      "text/plain": [
       "[0, 5, 4, 1, 3, 2]"
      ]
     },
     "execution_count": 3,
     "metadata": {},
     "output_type": "execute_result"
    }
   ],
   "source": [
    "prices[::-1]"
   ]
  },
  {
   "cell_type": "code",
   "execution_count": 11,
   "metadata": {},
   "outputs": [],
   "source": [
    "def find_max_profit(prices):\n",
    "    differentials = []\n",
    "    cursor = 1\n",
    "    for pricepoint in prices:\n",
    "        for next_pricepoint in prices[cursor:]:\n",
    "            differentials.append(next_pricepoint - pricepoint)\n",
    "        cursor += 1\n",
    "    return max(differentials)"
   ]
  },
  {
   "cell_type": "code",
   "execution_count": 15,
   "metadata": {},
   "outputs": [
    {
     "data": {
      "text/plain": [
       "94"
      ]
     },
     "execution_count": 15,
     "metadata": {},
     "output_type": "execute_result"
    }
   ],
   "source": [
    "find_max_profit([100, 55, 4, 98, 10, 18, 90, 95, 43, 11, 47, 67, 89, 42, 49, 79])"
   ]
  },
  {
   "cell_type": "markdown",
   "metadata": {},
   "source": [
    "# Recipe Batches"
   ]
  },
  {
   "cell_type": "markdown",
   "metadata": {},
   "source": [
    "Write a function that receives a recipe in the form of a dictionary, as well as all of the ingredients you have available to you, also in the form of a dictionary. Your function should output the maximum number of whole batches that can be made for the supplied recipe using the ingredients available to you, as indicated by the second dictionary.\n",
    "\n"
   ]
  },
  {
   "cell_type": "code",
   "execution_count": 89,
   "metadata": {},
   "outputs": [],
   "source": [
    "def recipe_batches(recipe, ingredients):\n",
    "    need = []\n",
    "    have = []\n",
    "    for i in recipe.keys():\n",
    "        need.append(i)\n",
    "    for i in ingredients.keys():\n",
    "        have.append(i)\n",
    "    for i in need:\n",
    "        if i not in have:\n",
    "            return 0\n",
    "    ratios = []\n",
    "    for i in recipe:\n",
    "        ratio = ingredients[i] // recipe[i]\n",
    "        if ratio < 1:\n",
    "            return 0\n",
    "        ratios.append(ratio)\n",
    "    return min(ratios)"
   ]
  },
  {
   "cell_type": "code",
   "execution_count": 62,
   "metadata": {},
   "outputs": [],
   "source": [
    "recipe = {\n",
    "  'eggs': 5,\n",
    "  'butter': 10,\n",
    "  'sugar': 8,\n",
    "  'flour': 15\n",
    "}\n",
    "ingredients = {}"
   ]
  },
  {
   "cell_type": "code",
   "execution_count": 80,
   "metadata": {},
   "outputs": [
    {
     "data": {
      "text/plain": [
       "dict_keys(['eggs', 'butter', 'sugar', 'flour'])"
      ]
     },
     "execution_count": 80,
     "metadata": {},
     "output_type": "execute_result"
    }
   ],
   "source": [
    "ingredients.keys()"
   ]
  },
  {
   "cell_type": "code",
   "execution_count": 70,
   "metadata": {},
   "outputs": [],
   "source": [
    "for i in recipe:\n",
    "    ingredients[i] = recipe[i]*2"
   ]
  },
  {
   "cell_type": "code",
   "execution_count": 71,
   "metadata": {},
   "outputs": [
    {
     "name": "stdout",
     "output_type": "stream",
     "text": [
      "eggs\n",
      "butter\n",
      "sugar\n",
      "flour\n",
      "[2, 2, 2, 2]\n"
     ]
    }
   ],
   "source": [
    "ratios = []\n",
    "for i in recipe:\n",
    "    print(i)\n",
    "    ratio = ingredients[i] // recipe[i]\n",
    "    ratios.append(ratio)\n",
    "print(ratios)"
   ]
  },
  {
   "cell_type": "code",
   "execution_count": 72,
   "metadata": {},
   "outputs": [
    {
     "data": {
      "text/plain": [
       "10"
      ]
     },
     "execution_count": 72,
     "metadata": {},
     "output_type": "execute_result"
    }
   ],
   "source": [
    "ingredients['eggs']"
   ]
  },
  {
   "cell_type": "code",
   "execution_count": 87,
   "metadata": {},
   "outputs": [],
   "source": [
    "rec = { 'milk': 100, 'flour': 4, 'sugar': 10, 'butter': 5 }\n",
    "\n",
    "\n",
    "ing = { 'milk': 1288, 'flour': 9, 'sugar': 95 }"
   ]
  },
  {
   "cell_type": "code",
   "execution_count": 90,
   "metadata": {},
   "outputs": [
    {
     "data": {
      "text/plain": [
       "0"
      ]
     },
     "execution_count": 90,
     "metadata": {},
     "output_type": "execute_result"
    }
   ],
   "source": [
    "recipe_batches(rec, ing)"
   ]
  },
  {
   "cell_type": "code",
   "execution_count": 103,
   "metadata": {},
   "outputs": [],
   "source": [
    "def eating_cookies(n, cache=None):\n",
    "    ways = 0\n",
    "    if n < 0:\n",
    "        ways += 0\n",
    "    if n == 0:\n",
    "        ways += 1\n",
    "    if n == 1:\n",
    "        ways += 1\n",
    "    if n == 2:\n",
    "        ways += 2\n",
    "    if n == 3:\n",
    "        ways += 4\n",
    "    if n > 3:\n",
    "        ways +=2\n",
    "    return ways"
   ]
  },
  {
   "cell_type": "code",
   "execution_count": null,
   "metadata": {},
   "outputs": [],
   "source": [
    "def eating_cookies(n, cache=None):\n",
    "    ways = [1,1,2,3]"
   ]
  },
  {
   "cell_type": "code",
   "execution_count": 118,
   "metadata": {},
   "outputs": [],
   "source": [
    "def __calculatePaths(currPathLength, paths, currSeries):\n",
    "    if currPathLength == 0:\n",
    "        return 1\n",
    "    elif currPathLength < 0:\n",
    "        return 0\n",
    "    paths = 0\n",
    "    for i in range(1, 4):\n",
    "        newSeries = list(currSeries)  # make new series to track steps\n",
    "        newSeries.append(i)\n",
    "        paths += __calculatePaths(currPathLength - i, paths, newSeries)\n",
    "    return paths\n",
    "\n",
    "def calculatePaths(pathLength):\n",
    "    paths = __calculatePaths(pathLength, 0, [])\n",
    "    return paths"
   ]
  },
  {
   "cell_type": "code",
   "execution_count": 120,
   "metadata": {},
   "outputs": [
    {
     "name": "stdout",
     "output_type": "stream",
     "text": [
      "0 1\n",
      "1 1\n",
      "2 2\n",
      "3 4\n",
      "4 7\n",
      "5 13\n",
      "6 24\n",
      "7 44\n",
      "8 81\n",
      "9 149\n",
      "10 274\n",
      "11 504\n",
      "12 927\n",
      "13 1705\n",
      "14 3136\n",
      "15 5768\n",
      "16 10609\n",
      "17 19513\n",
      "18 35890\n",
      "19 66012\n",
      "20 121415\n",
      "21 223317\n",
      "22 410744\n",
      "23 755476\n",
      "24 1389537\n",
      "25 2555757\n",
      "26 4700770\n",
      "27 8646064\n",
      "28 15902591\n"
     ]
    }
   ],
   "source": [
    "for i in range(29):\n",
    "    print(i,calculatePaths(i))"
   ]
  },
  {
   "cell_type": "code",
   "execution_count": 104,
   "metadata": {},
   "outputs": [
    {
     "data": {
      "text/plain": [
       "2"
      ]
     },
     "execution_count": 104,
     "metadata": {},
     "output_type": "execute_result"
    }
   ],
   "source": [
    "eating_cookies(10)"
   ]
  },
  {
   "cell_type": "code",
   "execution_count": 91,
   "metadata": {},
   "outputs": [
    {
     "name": "stdout",
     "output_type": "stream",
     "text": [
      "[1, 2, 3, 4, 5]\n"
     ]
    }
   ],
   "source": [
    "\"\"\"\n",
    "write a function that recursively returns the sum of a list of numbers\n",
    "\"\"\"\n",
    "\n",
    "numbers = [1,2,3,4,5]\n",
    "\n",
    "def sum_of_numbers(num_list):\n",
    "    # What is our base case?\n",
    "\n",
    "    return num_list\n",
    "\n",
    "print(sum_of_numbers(numbers))"
   ]
  },
  {
   "cell_type": "code",
   "execution_count": 28,
   "metadata": {},
   "outputs": [],
   "source": [
    "# e_c(n) = e_c(n-1) + e_c(n-2) + e_c(n-3)"
   ]
  },
  {
   "cell_type": "code",
   "execution_count": 26,
   "metadata": {},
   "outputs": [],
   "source": [
    "def eating_cookies(n, cache=None):\n",
    "    if cache is None:\n",
    "        cache = {}\n",
    "    if n == 0:\n",
    "        return 1\n",
    "    elif n == 1:\n",
    "        return 1\n",
    "    elif n == 2:\n",
    "        return 2\n",
    "    elif n == 3:\n",
    "        return 4\n",
    "    elif cache and cache[n]:\n",
    "        return cache[n]\n",
    "    else:\n",
    "        cache[n] = eating_cookies(n-1, cache) + eating_cookies(n-2, cache) + eating_cookies(n-3, cache)\n",
    "    return cache[n]"
   ]
  },
  {
   "cell_type": "code",
   "execution_count": 27,
   "metadata": {},
   "outputs": [
    {
     "data": {
      "text/plain": [
       "410744"
      ]
     },
     "execution_count": 27,
     "metadata": {},
     "output_type": "execute_result"
    }
   ],
   "source": [
    "eating_cookies(22)"
   ]
  },
  {
   "cell_type": "code",
   "execution_count": 71,
   "metadata": {},
   "outputs": [],
   "source": [
    "def making_change(amount, denominations):\n",
    "    cache = [0] * (amount + 1)\n",
    "    cache[0] = 1\n",
    "    for coin in denominations:\n",
    "        for higher_amount in range(coin, amount + 1):\n",
    "            cache[higher_amount] += cache[higher_amount - coin]\n",
    "    return cache[amount]"
   ]
  },
  {
   "cell_type": "code",
   "execution_count": 72,
   "metadata": {},
   "outputs": [
    {
     "data": {
      "text/plain": [
       "50"
      ]
     },
     "execution_count": 72,
     "metadata": {},
     "output_type": "execute_result"
    }
   ],
   "source": [
    "making_change(50,[1,5,10,25,50])"
   ]
  },
  {
   "cell_type": "code",
   "execution_count": 41,
   "metadata": {},
   "outputs": [],
   "source": [
    "def making_change(n):\n",
    "    if n == 0:\n",
    "        return 1\n",
    "    elif 1 <= n < 5:\n",
    "        return 1\n",
    "    elif 5 <= n < 10:\n",
    "        return 2\n",
    "    elif n == 10:\n",
    "        return 4\n",
    "    elif n == 25:\n",
    "        return 13\n",
    "    elif n == 50:\n",
    "        return 50\n",
    "    else:\n",
    "        return making_change(n) + making_change(n-1)"
   ]
  },
  {
   "cell_type": "code",
   "execution_count": 81,
   "metadata": {},
   "outputs": [],
   "source": [
    "def bunnyEars(bunnies):\n",
    "      if bunnies == 0:\n",
    "        return 0\n",
    "\n",
    "      return 2 + bunnyEars(bunnies-1)"
   ]
  },
  {
   "cell_type": "code",
   "execution_count": null,
   "metadata": {},
   "outputs": [],
   "source": [
    "for i in range(1,100):\n",
    "    print(bunnyEars(i))"
   ]
  },
  {
   "cell_type": "code",
   "execution_count": 86,
   "metadata": {},
   "outputs": [],
   "source": [
    "a = 0\n",
    "a = a + 10\n",
    "ry"
   ]
  },
  {
   "cell_type": "code",
   "execution_count": 87,
   "metadata": {},
   "outputs": [
    {
     "data": {
      "text/plain": [
       "10"
      ]
     },
     "execution_count": 87,
     "metadata": {},
     "output_type": "execute_result"
    }
   ],
   "source": [
    "a"
   ]
  },
  {
   "cell_type": "code",
   "execution_count": 137,
   "metadata": {},
   "outputs": [
    {
     "name": "stdout",
     "output_type": "stream",
     "text": [
      "0:00:00.000047\n"
     ]
    }
   ],
   "source": [
    "from datetime import datetime\n"
   ]
  },
  {
   "cell_type": "code",
   "execution_count": 142,
   "metadata": {},
   "outputs": [
    {
     "name": "stdout",
     "output_type": "stream",
     "text": [
      "0:00:00.000118\n"
     ]
    }
   ],
   "source": [
    "start_time = datetime.now()\n",
    "n = 1\n",
    "a = 0\n",
    "while (a < n * n * n):\n",
    "    a = a + n * n\n",
    "end_time = datetime.now()\n",
    "print (end_time - start_time)"
   ]
  },
  {
   "cell_type": "code",
   "execution_count": 143,
   "metadata": {},
   "outputs": [
    {
     "name": "stdout",
     "output_type": "stream",
     "text": [
      "0:00:00.000295\n"
     ]
    }
   ],
   "source": [
    "start_time = datetime.now()\n",
    "n = 500\n",
    "a = 0\n",
    "while (a < n * n * n):\n",
    "    a = a + n * n\n",
    "end_time = datetime.now()\n",
    "print (end_time - start_time)"
   ]
  },
  {
   "cell_type": "code",
   "execution_count": 147,
   "metadata": {},
   "outputs": [
    {
     "name": "stdout",
     "output_type": "stream",
     "text": [
      "1 0:00:00.000084\n",
      "501 0:00:00.000538\n",
      "1001 0:00:00.000877\n",
      "1501 0:00:00.001361\n",
      "2001 0:00:00.001988\n",
      "2501 0:00:00.002945\n",
      "3001 0:00:00.004047\n",
      "3501 0:00:00.005362\n",
      "4001 0:00:00.007522\n",
      "4501 0:00:00.009259\n",
      "5001 0:00:00.011594\n",
      "5501 0:00:00.013601\n",
      "6001 0:00:00.018891\n",
      "6501 0:00:00.022141\n",
      "7001 0:00:00.024703\n",
      "7501 0:00:00.028870\n",
      "8001 0:00:00.032867\n",
      "8501 0:00:00.037575\n",
      "9001 0:00:00.041736\n",
      "9501 0:00:00.045391\n"
     ]
    }
   ],
   "source": [
    "start_time = datetime.now()\n",
    "for n in range(1,10000,500):\n",
    "    a = 0\n",
    "    while (a < n * n * n):\n",
    "        a = a + n * n\n",
    "    end_time = datetime.now()\n",
    "    print(n, end_time - start_time)"
   ]
  },
  {
   "cell_type": "code",
   "execution_count": 105,
   "metadata": {},
   "outputs": [
    {
     "name": "stdout",
     "output_type": "stream",
     "text": [
      "25\n",
      "50\n",
      "75\n",
      "100\n",
      "125\n"
     ]
    }
   ],
   "source": [
    "a = 0\n",
    "while (a < 5 * 5 * 5):\n",
    "    a = a + 5 * 5\n",
    "    print(a)"
   ]
  },
  {
   "cell_type": "code",
   "execution_count": 148,
   "metadata": {},
   "outputs": [],
   "source": [
    "import pandas as pd\n"
   ]
  },
  {
   "cell_type": "code",
   "execution_count": 152,
   "metadata": {},
   "outputs": [
    {
     "data": {
      "image/png": "[encoded data removed]",
      "text/plain": [
       "<Figure size 432x288 with 1 Axes>"
      ]
     },
     "metadata": {
      "needs_background": "light"
     },
     "output_type": "display_data"
    }
   ],
   "source": [
    "s = pd.Series([1, 2, 2.5, 3, 3.5, 4, 5])\n",
    "ax = s.plot.kde()"
   ]
  },
  {
   "cell_type": "markdown",
   "metadata": {},
   "source": [
    "# Rock Paper Scissors\n",
    "\n",
    "Write a function `rock_paper_scissors` to generate all of the possible plays that can be made in a game of \"Rock Paper Scissors\", given some input `n`, which represents the number of plays per round. \n",
    "\n",
    "For example, given n = 2, your function should output the following:\n",
    "\n",
    "```python\n",
    "[['rock', 'rock'], ['rock', 'paper'], ['rock', 'scissors'], ['paper', 'rock'], ['paper', 'paper'], ['paper', 'scissors'], ['scissors', 'rock'], ['scissors', 'paper'], ['scissors', 'scissors']]\n",
    "```\n",
    "\n",
    "Your output should be a list of lists containing strings. Each inner list should have length equal to the input n.\n",
    "\n",
    "## Testing\n",
    "\n",
    "Run the test file by executing `python test_rps.py`.\n",
    "\n",
    "You can also test your implementation manually by executing `python rps.py [n]`.\n",
    "\n",
    "## Hints\n",
    "\n",
    " * You'll want to define a list with all of the possible Rock Paper Scissors plays.\n",
    " * Another problem that asks you to generate a bunch of permutations, so we're probably going to want to opt for using recursion again. Since we're building up a list of results, we'll have to pass the list we're constructing around to multiple recursive calls so that each recursive call can add to the overall result. However, the tests only give our function `n` as input. To get around this, we could define an inner recursive helper function that will perform the recursion for us, while allowing us to preserve the outer function's function signature. \n",
    " * In Python, you can concatenate two lists with the `+` operator. However, you'll want to make sure that both operands are lists!\n",
    " * If you opt to define an inner recursive helper function, don't forget to make an initial call to the recursive helper function to kick off the recursion."
   ]
  },
  {
   "cell_type": "code",
   "execution_count": 157,
   "metadata": {},
   "outputs": [],
   "source": [
    "def add_one_more(list_plays):\n",
    "    list_return = []\n",
    "    strings = [['rock'],['paper'],['scissors']]\n",
    "    for i in list_plays:\n",
    "        for j in strings:\n",
    "            list_return.append(i+j)\n",
    "    return list_return\n",
    "    \n",
    "\n",
    "def rock_paper_scissors(n):\n",
    "    if n <= 0:\n",
    "        return [[]]\n",
    "    else:\n",
    "        return add_one_more(rock_paper_scissors(n-1))"
   ]
  },
  {
   "cell_type": "code",
   "execution_count": 168,
   "metadata": {},
   "outputs": [
    {
     "name": "stdout",
     "output_type": "stream",
     "text": [
      "0 1\n",
      "1 3\n",
      "2 9\n",
      "3 27\n",
      "4 81\n",
      "5 243\n",
      "6 729\n",
      "7 2187\n",
      "8 6561\n",
      "9 19683\n",
      "10 59049\n",
      "11 177147\n",
      "12 531441\n"
     ]
    }
   ],
   "source": [
    "for i in range(13):\n",
    "    lists = rock_paper_scissors(i)\n",
    "    print(i,len(lists))"
   ]
  },
  {
   "cell_type": "code",
   "execution_count": null,
   "metadata": {},
   "outputs": [],
   "source": []
  }
 ],
 "metadata": {
  "kernelspec": {
   "display_name": "Python 3",
   "language": "python",
   "name": "python3"
  },
  "language_info": {
   "codemirror_mode": {
    "name": "ipython",
    "version": 3
   },
   "file_extension": ".py",
   "mimetype": "text/x-python",
   "name": "python",
   "nbconvert_exporter": "python",
   "pygments_lexer": "ipython3",
   "version": "3.7.4"
  }
 },
 "nbformat": 4,
 "nbformat_minor": 4
}
