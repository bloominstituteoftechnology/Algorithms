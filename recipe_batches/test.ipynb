{
 "cells": [
  {
   "cell_type": "code",
   "execution_count": 5,
   "metadata": {},
   "outputs": [],
   "source": [
    "recipe = { 'milk': 100, 'butter': 50, 'flour': 5 }\n",
    "ingredients = { 'milk': 132, 'butter': 51, 'flour': 51 }"
   ]
  },
  {
   "cell_type": "code",
   "execution_count": 6,
   "metadata": {},
   "outputs": [],
   "source": [
    "def recipe_batches(recipe, ingredients):\n",
    "    # Get ingredients\n",
    "    recipe_ingredients = [key for key, value in recipe.items()]\n",
    "    stock_ingredients = [key for key, value in ingredients.items()]\n",
    "    \n",
    "    # Check that we have all the ingredients\n",
    "    for entry in recipe_ingredients:\n",
    "        if entry not in stock_ingredients:\n",
    "            return 0\n",
    "        else:\n",
    "            pass\n",
    "        \n",
    "    # Get possible batch sizes for each\n",
    "    possible_batch_sizes = []\n",
    "    \n",
    "    for key, value in recipe.items():\n",
    "        batch_size = ingredients[key] // value\n",
    "        possible_batch_sizes.append(batch_size)\n",
    "        \n",
    "    return min(possible_batch_sizes)"
   ]
  },
  {
   "cell_type": "code",
   "execution_count": 7,
   "metadata": {},
   "outputs": [
    {
     "data": {
      "text/plain": [
       "1"
      ]
     },
     "execution_count": 7,
     "metadata": {},
     "output_type": "execute_result"
    }
   ],
   "source": [
    "recipe_batches(recipe, ingredients)"
   ]
  },
  {
   "cell_type": "code",
   "execution_count": null,
   "metadata": {},
   "outputs": [],
   "source": []
  }
 ],
 "metadata": {
  "kernelspec": {
   "display_name": "Python 3",
   "language": "python",
   "name": "python3"
  },
  "language_info": {
   "codemirror_mode": {
    "name": "ipython",
    "version": 3
   },
   "file_extension": ".py",
   "mimetype": "text/x-python",
   "name": "python",
   "nbconvert_exporter": "python",
   "pygments_lexer": "ipython3",
   "version": "3.7.3"
  }
 },
 "nbformat": 4,
 "nbformat_minor": 2
}
