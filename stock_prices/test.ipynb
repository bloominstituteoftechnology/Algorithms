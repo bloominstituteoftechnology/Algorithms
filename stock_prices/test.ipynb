{
 "cells": [
  {
   "cell_type": "code",
   "execution_count": 8,
   "metadata": {},
   "outputs": [],
   "source": [
    "def find_max_profit(prices):\n",
    "    # Instantiate vars\n",
    "    current_min_so_far = 1000000000\n",
    "    max_profit = -1000000000\n",
    "    \n",
    "    # Loop through prices\n",
    "    for i in range(len(prices)):\n",
    "        current_profit = prices[i] - current_min_so_far\n",
    "        if current_profit > max_profit:\n",
    "            max_profit = current_profit\n",
    "        \n",
    "        if prices[i] < current_min_so_far:\n",
    "            current_min_so_far = prices[i]\n",
    "    \n",
    "    return max_profit"
   ]
  },
  {
   "cell_type": "code",
   "execution_count": 9,
   "metadata": {},
   "outputs": [
    {
     "name": "stdout",
     "output_type": "stream",
     "text": [
      "-999999900\n",
      "-10\n",
      "-10\n",
      "-30\n",
      "-30\n",
      "-10\n"
     ]
    },
    {
     "data": {
      "text/plain": [
       "-10"
      ]
     },
     "execution_count": 9,
     "metadata": {},
     "output_type": "execute_result"
    }
   ],
   "source": [
    "find_max_profit([100, 90, 80, 50, 20, 10])"
   ]
  },
  {
   "cell_type": "code",
   "execution_count": null,
   "metadata": {},
   "outputs": [],
   "source": []
  }
 ],
 "metadata": {
  "kernelspec": {
   "display_name": "Python 3",
   "language": "python",
   "name": "python3"
  },
  "language_info": {
   "codemirror_mode": {
    "name": "ipython",
    "version": 3
   },
   "file_extension": ".py",
   "mimetype": "text/x-python",
   "name": "python",
   "nbconvert_exporter": "python",
   "pygments_lexer": "ipython3",
   "version": "3.7.3"
  }
 },
 "nbformat": 4,
 "nbformat_minor": 2
}
